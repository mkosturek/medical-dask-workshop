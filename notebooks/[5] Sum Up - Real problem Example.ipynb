{
 "cells": [
  {
   "cell_type": "markdown",
   "metadata": {},
   "source": [
    "# Dask scaling Benchmarks \n",
    "by Dask Creator - Matthew Rocklin\n",
    "\n",
    "http://matthewrocklin.com/blog/work/2017/07/03/scaling"
   ]
  },
  {
   "cell_type": "markdown",
   "metadata": {},
   "source": [
    "# Dask comparison with Spark\n",
    "\n",
    "http://dask.pydata.org/en/latest/spark.html"
   ]
  },
  {
   "cell_type": "markdown",
   "metadata": {},
   "source": [
    "# Dask Documentation\n",
    "\n",
    "## Dask itself\n",
    "\n",
    "Really nice to read :D\n",
    "\n",
    "http://dask.pydata.org/en/latest/index.html\n",
    "\n",
    "### Array - Dask Numpy API\n",
    "\n",
    "https://dask.pydata.org/en/latest/array.html\n",
    "\n",
    "### DataFrame - Dask Pandas API\n",
    "\n",
    "https://dask.pydata.org/en/latest/dataframe.html\n",
    "\n",
    "### Bag\n",
    "\n",
    "https://dask.pydata.org/en/latest/bag.html\n",
    "\n",
    "### Delayed\n",
    "\n",
    "https://dask.pydata.org/en/latest/delayed.html\n",
    "\n",
    "### Futures\n",
    "Scheduling tasks with immediate evaluation.\n",
    "        \n",
    "https://dask.pydata.org/en/latest/futures.html\n",
    "    \n",
    "\n",
    "### Machine Learning\n",
    "* SciKit-Learn\n",
    "* Tensorflow\n",
    "* XGBoost\n",
    "* Generalized Linear Models\n",
    "* ...\n",
    "* ...\n",
    "* Profit!!\n",
    "\n",
    "http://dask-ml.readthedocs.io/en/latest/\n",
    "\t\n",
    "\n",
    "## Dask.distributed \n",
    "all about clustering...\n",
    "\n",
    "https://distributed.readthedocs.io/en/latest/\n",
    "\n",
    "### LocalCluster\n",
    "\n",
    "https://distributed.readthedocs.io/en/latest/local-cluster.html\n",
    "\n",
    "### AWS EC2 automation script\n",
    "\n",
    "https://distributed.readthedocs.io/en/latest/ec2.html\n",
    "\n",
    "\n",
    "### Status Dashboard\n",
    "\n",
    "https://distributed.readthedocs.io/en/latest/web.html"
   ]
  },
  {
   "cell_type": "markdown",
   "metadata": {},
   "source": [
    "# Real Example\n",
    "\n",
    "Joining 1 250 000 000 messages with 200 000 products and grouping it with multiple aggregates.\n",
    "\n",
    "Dask Scheduler divided whole process into ~750 000 tasks.\n",
    "\n",
    "Computed on AWS machine, 16 cores (16 cluster workers) with 120 GB RAM (Limited to ~90 GB for Dask - 5.5GB per worker)\n",
    "\n",
    "![Resources](images/top.PNG)\n",
    "![Tasks Stream](images/middle.PNG)\n",
    "![Overall Tasks Progress](images/bottom.PNG)"
   ]
  },
  {
   "cell_type": "code",
   "execution_count": null,
   "metadata": {
    "collapsed": true
   },
   "outputs": [],
   "source": []
  }
 ],
 "metadata": {
  "kernelspec": {
   "display_name": "Python 3",
   "language": "python",
   "name": "python3"
  },
  "language_info": {
   "codemirror_mode": {
    "name": "ipython",
    "version": 3
   },
   "file_extension": ".py",
   "mimetype": "text/x-python",
   "name": "python",
   "nbconvert_exporter": "python",
   "pygments_lexer": "ipython3",
   "version": "3.6.3"
  },
  "toc": {
   "nav_menu": {},
   "number_sections": true,
   "sideBar": true,
   "skip_h1_title": false,
   "toc_cell": false,
   "toc_position": {},
   "toc_section_display": "block",
   "toc_window_display": false
  }
 },
 "nbformat": 4,
 "nbformat_minor": 2
}
